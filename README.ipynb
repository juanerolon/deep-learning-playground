{
 "cells": [
  {
   "cell_type": "markdown",
   "metadata": {
    "deletable": true,
    "editable": true
   },
   "source": [
    "# Deep Learning Playground "
   ]
  },
  {
   "cell_type": "markdown",
   "metadata": {
    "deletable": true,
    "editable": true
   },
   "source": [
    "Collection of individual scripts and ipython notebooks of my scratch work towards implementing convolutional neural networks in Keras and Tensorflow. As such, the scripts are fully functional but do not reflect the finished product nor constitute any type of reporting document. "
   ]
  },
  {
   "cell_type": "markdown",
   "metadata": {
    "deletable": true,
    "editable": true
   },
   "source": [
    "## Description"
   ]
  },
  {
   "cell_type": "markdown",
   "metadata": {},
   "source": [
    "- **classify_movie_reviews-keras**  \n",
    "Implements a machine learning miniproject using a deep learning toy model using Keras. The goal of the miniproject is to classify the degree of positivity of movie reviews from imdb database according to the most frequent words appearing in the review text.  \n",
    "\n",
    "\n",
    "- **cnn-test** \n",
    "Test the implementation of an image classifier using Keras with Tensorflow backend with GPU support. It serves as a test bench for the dog image classifier of the deep learning project for Udacity's Machine Learning Nanodegree.   \n",
    "\n",
    "\n",
    "- **keras_examples**\n",
    "Implements various tests on different pre-trained deep convolutional neural networks architectures, including RESNET and XCEPTION.  \n",
    "\n",
    "\n",
    "- **pre-trained-model**\n",
    "Implements a pre-trained image classifier model using a 16-layer deep convolutional neural network VGG16.    \n",
    "\n",
    "\n",
    "- **validation_curves**\n",
    "Illustrates the generation of validation curves for a Keras CNN categorical data classifier on the well-known Pima Diabetes dataset.\n",
    "\n",
    "\n"
   ]
  },
  {
   "cell_type": "markdown",
   "metadata": {
    "deletable": true,
    "editable": true
   },
   "source": [
    "## Installation"
   ]
  },
  {
   "cell_type": "markdown",
   "metadata": {
    "deletable": true,
    "editable": true
   },
   "source": [
    "Fork or clone GitHub repository and make sure you have a working Python 3 installation. To get the most of the scripts, make sure you have Numpy, Scipy, Pandas and Matplotlib libraries installed in your Python environment.  The easiest way to add the required libraries is by using the tools provided by the Anaconda python distribution, https://www.anaconda.com."
   ]
  },
  {
   "cell_type": "markdown",
   "metadata": {
    "deletable": true,
    "editable": true
   },
   "source": [
    "`$ git clone https://github.com/juanerolon/deep-learning-playground.git`"
   ]
  },
  {
   "cell_type": "markdown",
   "metadata": {
    "deletable": true,
    "editable": true
   },
   "source": [
    "### Requisites"
   ]
  },
  {
   "cell_type": "markdown",
   "metadata": {
    "deletable": true,
    "editable": true
   },
   "source": [
    "** Libraries **\n",
    "- Sklearn \n",
    "- Tensorflow with GPU support\n",
    "- OpenCV\n",
    "- Keras  \n",
    "- Imbalanced-learn\n",
    "- Feather format"
   ]
  },
  {
   "cell_type": "markdown",
   "metadata": {
    "deletable": true,
    "editable": true
   },
   "source": [
    "## Usage"
   ]
  },
  {
   "cell_type": "markdown",
   "metadata": {
    "deletable": true,
    "editable": true
   },
   "source": [
    "To run code inside Ipython notebooks you may open the file using Jupyter. From the command line:"
   ]
  },
  {
   "cell_type": "markdown",
   "metadata": {
    "deletable": true,
    "editable": true
   },
   "source": [
    "`$ jupyter notebook notebook.ipynb`"
   ]
  },
  {
   "cell_type": "markdown",
   "metadata": {
    "deletable": true,
    "editable": true
   },
   "source": [
    "To run each individual script you may use your favorite IDE or run the script from the command line:"
   ]
  },
  {
   "cell_type": "markdown",
   "metadata": {
    "deletable": true,
    "editable": true
   },
   "source": [
    "`$ python scriptname.py`"
   ]
  },
  {
   "cell_type": "markdown",
   "metadata": {
    "deletable": true,
    "editable": true
   },
   "source": [
    "## Contributing"
   ]
  },
  {
   "cell_type": "markdown",
   "metadata": {
    "deletable": true,
    "editable": true
   },
   "source": [
    "Please feel free to fork or clone or submit pull requests. By participating in this project, you agree to abide by open source standards and code of conduct."
   ]
  },
  {
   "cell_type": "markdown",
   "metadata": {
    "deletable": true,
    "editable": true
   },
   "source": [
    "## License"
   ]
  },
  {
   "cell_type": "markdown",
   "metadata": {
    "deletable": true,
    "editable": true
   },
   "source": [
    "The present project is a public domain work. Please feel free to use it as is, modify it or do whatever you see fit."
   ]
  },
  {
   "cell_type": "markdown",
   "metadata": {
    "deletable": true,
    "editable": true
   },
   "source": [
    "## About\n"
   ]
  },
  {
   "cell_type": "markdown",
   "metadata": {
    "deletable": true,
    "editable": true
   },
   "source": [
    "Collection of individual scripts and ipython notebooks of my scratch work towards implementing convolutional neural networks in Keras and Tensorflow. As such, the scripts are fully functional but do not reflect the finished product nor constitute any type of reporting document."
   ]
  },
  {
   "cell_type": "code",
   "execution_count": null,
   "metadata": {
    "collapsed": true
   },
   "outputs": [],
   "source": []
  }
 ],
 "metadata": {
  "kernelspec": {
   "display_name": "Python 3",
   "language": "python",
   "name": "python3"
  },
  "language_info": {
   "codemirror_mode": {
    "name": "ipython",
    "version": 3
   },
   "file_extension": ".py",
   "mimetype": "text/x-python",
   "name": "python",
   "nbconvert_exporter": "python",
   "pygments_lexer": "ipython3",
   "version": "3.5.3"
  }
 },
 "nbformat": 4,
 "nbformat_minor": 2
}
